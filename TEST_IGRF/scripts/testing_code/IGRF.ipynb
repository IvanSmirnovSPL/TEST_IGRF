{
 "cells": [
  {
   "cell_type": "code",
   "execution_count": 1,
   "metadata": {},
   "outputs": [],
   "source": [
    "import numpy as np\n",
    "\n",
    "from matplotlib import pyplot as plt\n",
    "\n",
    "from scipy.special import binom\n",
    "from scipy.special import factorial as fact\n",
    "\n",
    "%matplotlib inline"
   ]
  },
  {
   "cell_type": "code",
   "execution_count": 2,
   "metadata": {},
   "outputs": [],
   "source": [
    "IGRF_COEFS_TABLE = np.genfromtxt('igrf13coeffs.txt', dtype=str)[1:]\n",
    "\n",
    "X_CIP_COEFS_TABLES = [np.genfromtxt('tab5.2a.txt', dtype=float, skip_header=36, skip_footer=298),\n",
    "                      np.genfromtxt('tab5.2a.txt', dtype=float, skip_header=1345, skip_footer=44),\n",
    "                      np.genfromtxt('tab5.2a.txt', dtype=float, skip_header=1601, skip_footer=7),\n",
    "                      np.genfromtxt('tab5.2a.txt', dtype=float, skip_header=1640, skip_footer=2),\n",
    "                      np.genfromtxt('tab5.2a.txt', dtype=float, skip_header=1647)]\n",
    "\n",
    "Y_CIP_COEFS_TABLES = [np.genfromtxt('tab5.2b.txt', dtype=float, skip_header=35, skip_footer=317),\n",
    "                      np.genfromtxt('tab5.2b.txt', dtype=float, skip_header=1000, skip_footer=39),\n",
    "                      np.genfromtxt('tab5.2b.txt', dtype=float, skip_header=1280, skip_footer=8),\n",
    "                      np.genfromtxt('tab5.2b.txt', dtype=float, skip_header=1313, skip_footer=2),\n",
    "                      np.genfromtxt('tab5.2b.txt', dtype=float, skip_header=1321)]\n",
    "\n",
    "sXY_CIO_COEFS_TABLES = [np.genfromtxt('tab5.2c.txt', dtype=float, skip_header=40, skip_footer=37),\n",
    "                        np.genfromtxt('tab5.2c.txt', dtype=float, skip_header=76, skip_footer=33),\n",
    "                        np.genfromtxt('tab5.2c.txt', dtype=float, skip_header=82, skip_footer=7),\n",
    "                        np.genfromtxt('tab5.2c.txt', dtype=float, skip_header=110, skip_footer=2),\n",
    "                        np.genfromtxt('tab5.2c.txt', dtype=float, skip_header=117)]\n",
    "\n",
    "TIP_AND_DUT1_TABLE = np.genfromtxt('6_BULLETIN_A_V2013_016.txt', dtype=float, skip_header=122, skip_footer=42)[:,3:]"
   ]
  },
  {
   "cell_type": "markdown",
   "metadata": {},
   "source": [
    "# Scalar potential $V$\n",
    "\n",
    "$$V = a \\sum\\limits_{n=1}^N \\sum\\limits_{m=0}^n \\left( \\dfrac{a}{r} \\right)^{n+1} \\left[ g^m_n(t) \\cos \\left( m \\varphi \\right) + h^m_n(t) \\sin \\left( m \\varphi \\right) \\right] S P^m_n \\left( \\cos \\theta \\right)$$\n",
    "\n",
    "where\n",
    "$$a = 6371.3 \\text{ km} - \\text{mean equatorial radius of the Earth}$$\n",
    "$$N = 13 - \\text{maximum degree of expansion}$$\n",
    "$$n - \\text{degree of expansion}$$\n",
    "$$m - \\text{order of expansion}$$\n",
    "$$g^m_n, h^m_n - \\text{Gauss coefficients}$$\n",
    "$$S P^m_n - \\text{Schmidt normalized associated Legendre polynomials}$$\n",
    "$$r - \\text{geocentric radial distance}$$\n",
    "$$\\theta - \\text{geocentric polar angle}$$\n",
    "$$\\varphi - \\text{geocentric longitude}$$\n",
    "$$t - \\text{time}$$"
   ]
  },
  {
   "cell_type": "markdown",
   "metadata": {},
   "source": [
    "# Associated Legendre polynomials\n",
    "\n",
    "$$P^m_n \\left( \\cos \\theta \\right) = (-1)^m 2^n \\left( \\sin \\theta \\right)^m \\sum\\limits_{k=m}^n \\dfrac{k!}{(k-m)!} \\left( \\cos \\theta \\right)^{k-m} \\begin{pmatrix} n \\\\ k \\end{pmatrix} \\begin{pmatrix} \\dfrac{n+k-1}{2} \\\\ n \\end{pmatrix}$$"
   ]
  },
  {
   "cell_type": "code",
   "execution_count": 3,
   "metadata": {},
   "outputs": [],
   "source": [
    "def assoc_legendre(theta, n, m):\n",
    "    \n",
    "    sum = 0\n",
    "    \n",
    "    for k in range(m, n+1):\n",
    "        \n",
    "        sum += fact(k) / fact(k-m) * np.cos(theta)**(k-m) * binom(n, k) * binom((n+k-1)/2, n)\n",
    "        \n",
    "    return (-1)**m * 2**n * np.sin(theta)**m * sum"
   ]
  },
  {
   "cell_type": "markdown",
   "metadata": {},
   "source": [
    "## Differentiation by $\\theta$\n",
    "\n",
    "$$\\begin{aligned}\n",
    "\\dfrac{\\partial P^m_n \\left( \\cos \\theta \\right)}{\\partial \\theta} &= (-1)^m 2^n m \\left( \\sin \\theta \\right)^{m-1} \\sum\\limits_{k=m}^n \\dfrac{k!}{(k-m)!} \\left( \\cos \\theta \\right)^{k-m+1} \\begin{pmatrix} n \\\\ k \\end{pmatrix} \\begin{pmatrix} \\dfrac{n+k-1}{2} \\\\ n \\end{pmatrix} - \\\\\n",
    "&- (-1)^m 2^n \\left( \\sin \\theta \\right)^{m+1} \\sum\\limits_{k=m+1}^n \\dfrac{k!}{(k-m-1)!} \\left( \\cos \\theta \\right)^{k-m-1} \\begin{pmatrix} n \\\\ k \\end{pmatrix} \\begin{pmatrix} \\dfrac{n+k-1}{2} \\\\ n \\end{pmatrix}\n",
    "\\end{aligned}$$"
   ]
  },
  {
   "cell_type": "code",
   "execution_count": 4,
   "metadata": {},
   "outputs": [],
   "source": [
    "def theta_deriv(theta, n, m):\n",
    "    \n",
    "    SUM = 0\n",
    "    sum = 0\n",
    "    \n",
    "    if m != 0:\n",
    "    \n",
    "        for k in range(m, n+1):\n",
    "\n",
    "            sum += fact(k) / fact(k-m) * np.cos(theta)**(k-m) * binom(n, k) * binom((n+k-1)/2, n)\n",
    "\n",
    "        SUM += m * np.sin(theta)**(m-1) * np.cos(theta) * sum\n",
    "\n",
    "        sum = 0\n",
    "    \n",
    "    for k in range(m+1, n+1):\n",
    "        \n",
    "        sum += fact(k) / fact(k-m-1) * np.cos(theta)**(k-m-1) * (-np.sin(theta)) * binom(n, k) * binom((n+k-1)/2, n)\n",
    "        \n",
    "    SUM += np.sin(theta)**m * sum\n",
    "    \n",
    "    return (-1)**m * 2**n * SUM"
   ]
  },
  {
   "cell_type": "markdown",
   "metadata": {},
   "source": [
    "## Schmidt normalization\n",
    "\n",
    "$$\\text{if } m \\not = 0:$$\n",
    "$$S P^m_n \\left( \\cos \\theta \\right) = (-1)^m \\sqrt{\\dfrac{2 (n-m)!}{(n+m)!}} P^m_n \\left( \\cos \\theta \\right)$$"
   ]
  },
  {
   "cell_type": "code",
   "execution_count": 5,
   "metadata": {},
   "outputs": [],
   "source": [
    "def assoc_legendre_norm(theta, n, m):\n",
    "    \n",
    "    if m == 0:\n",
    "        \n",
    "        return assoc_legendre(theta, n, m)\n",
    "    \n",
    "    else:\n",
    "        \n",
    "        return (-1)**m * np.sqrt(2 * fact(n-m) / fact(n+m)) * assoc_legendre(theta, n, m)\n",
    "    \n",
    "def theta_deriv_norm(theta, n, m):\n",
    "    \n",
    "    if m == 0:\n",
    "        \n",
    "        return theta_deriv(theta, n, m)\n",
    "    \n",
    "    else:\n",
    "        \n",
    "        return (-1)**m * np.sqrt(2 * fact(n-m) / fact(n+m)) * theta_deriv(theta, n, m)"
   ]
  },
  {
   "cell_type": "markdown",
   "metadata": {},
   "source": [
    "# Scalar field $V$ derivative by $\\theta$\n",
    "\n",
    "$$\\dfrac{\\partial V}{\\partial \\theta} = a \\sum\\limits_{n=1}^N \\sum\\limits_{m=0}^n \\left( \\dfrac{a}{r} \\right)^{n+1} \\left[ g^m_n(t) \\cos \\left( m \\varphi \\right) + h^m_n(t) \\sin \\left( m \\varphi \\right) \\right] \\dfrac{\\partial S P^m_n \\left( \\cos \\theta \\right)}{\\partial \\theta}$$"
   ]
  },
  {
   "cell_type": "code",
   "execution_count": 6,
   "metadata": {},
   "outputs": [],
   "source": [
    "def theta_deriv_full(a, G, H, r, theta, phi):\n",
    "    \n",
    "    N = 13\n",
    "    \n",
    "    sum = 0\n",
    "    \n",
    "    for n in range(1, N+1):\n",
    "        \n",
    "        for m in range(n+1):\n",
    "            \n",
    "            sum += (a / r)**(n+1) * (G[n,m] * np.cos(m * phi) + H[n,m] * np.sin(m * phi)) * theta_deriv_norm(theta, n, m)\n",
    "            \n",
    "    return sum * a"
   ]
  },
  {
   "cell_type": "markdown",
   "metadata": {},
   "source": [
    "# Scalar field $V$ derivative by $r$\n",
    "\n",
    "$$\\dfrac{\\partial V}{\\partial r} = - \\sum\\limits_{n=1}^N \\sum\\limits_{m=0}^n (n+1) \\left( \\dfrac{a}{r} \\right)^{n+2} \\left[ g^m_n(t) \\cos \\left( m \\varphi \\right) + h^m_n(t) \\sin \\left( m \\varphi \\right) \\right] S P^m_n \\left( \\cos \\theta \\right)$$"
   ]
  },
  {
   "cell_type": "code",
   "execution_count": 7,
   "metadata": {},
   "outputs": [],
   "source": [
    "def r_deriv_full(a, G, H, r, theta, phi):\n",
    "    \n",
    "    N = 13\n",
    "    \n",
    "    sum = 0\n",
    "    \n",
    "    for n in range(1, N+1):\n",
    "        \n",
    "        for m in range(n+1):\n",
    "            \n",
    "            sum += (n+1) * (a / r)**(n+2) * (G[n,m] * np.cos(m * phi) + H[n,m] * np.sin(m * phi)) * \\\n",
    "                    assoc_legendre_norm(theta, n, m)\n",
    "            \n",
    "    return sum * (-1)"
   ]
  },
  {
   "cell_type": "markdown",
   "metadata": {},
   "source": [
    "# Scalar field $V$ derivative by $\\varphi$\n",
    "\n",
    "$$\\dfrac{\\partial V}{\\partial \\varphi} = a \\sum\\limits_{n=1}^N \\sum\\limits_{m=0}^n \\left( \\dfrac{a}{r} \\right)^{n+1} m \\left[ h^m_n(t) \\cos \\left( m \\varphi \\right) - g^m_n(t) \\sin \\left( m \\varphi \\right) \\right] S P^m_n \\left( \\cos \\theta \\right)$$"
   ]
  },
  {
   "cell_type": "code",
   "execution_count": 8,
   "metadata": {},
   "outputs": [],
   "source": [
    "def phi_deriv_full(a, G, H, r, theta, phi):\n",
    "    \n",
    "    N = 13\n",
    "    \n",
    "    sum = 0\n",
    "    \n",
    "    for n in range(1, N+1):\n",
    "        \n",
    "        for m in range(n+1):\n",
    "            \n",
    "            sum += (a / r)**(n+1) * m * (H[n,m] * np.cos(m * phi) - G[n,m] * np.sin(m * phi)) * assoc_legendre_norm(theta, n, m)\n",
    "            \n",
    "    return sum * a"
   ]
  },
  {
   "cell_type": "markdown",
   "metadata": {},
   "source": [
    "# Coefficients $g^m_n (t)$ and $h^m_n (t)$"
   ]
  },
  {
   "cell_type": "code",
   "execution_count": 9,
   "metadata": {},
   "outputs": [],
   "source": [
    "def IGRF_coef(year, table=IGRF_COEFS_TABLE):\n",
    "    \n",
    "    if (year < 1900.0) or (year >= 2025.0):\n",
    "        raise Exception('Invalid year, should be in [1900, 2025)')\n",
    "        \n",
    "    delta_year = year % 5\n",
    "    year_5 = year - delta_year\n",
    "    \n",
    "    G = np.zeros((14, 14))\n",
    "    H = np.zeros((14, 14))\n",
    "    \n",
    "    if year_5 < 2020:\n",
    "    \n",
    "        col_num = int(year_5 / 5 - 377)\n",
    "        \n",
    "        coefs = table[:,(0,1,2,col_num,col_num+1)]\n",
    "        \n",
    "        for line in coefs[1:]:\n",
    "            \n",
    "            val = float(line[3]) + delta_year / 5 * (float(line[4]) - float(line[3]))\n",
    "            \n",
    "            if line[0] == 'g':\n",
    "                \n",
    "                G[int(line[1]), int(line[2])] = val\n",
    "            \n",
    "            elif line[0] == 'h':\n",
    "                \n",
    "                H[int(line[1]), int(line[2])] = val\n",
    "                \n",
    "            else:\n",
    "                \n",
    "                raise Exception('Incorrect symbol in line, should be \\'g/h\\'')\n",
    "                \n",
    "    else:\n",
    "        \n",
    "        coefs = table[:,(0,1,2,-2,-1)]\n",
    "        \n",
    "        for line in coefs[1:]:\n",
    "            \n",
    "            val = float(line[3]) + delta_year * float(line[4])\n",
    "            \n",
    "            if line[0] == 'g':\n",
    "                \n",
    "                G[int(line[1]), int(line[2])] = val\n",
    "            \n",
    "            elif line[0] == 'h':\n",
    "                \n",
    "                H[int(line[1]), int(line[2])] = val\n",
    "                \n",
    "            else:\n",
    "                \n",
    "                raise Exception('Incorrect symbol in line, should be \\'g/h\\'')\n",
    "        \n",
    "    return G, H"
   ]
  },
  {
   "cell_type": "markdown",
   "metadata": {},
   "source": [
    "# Magnetic field\n",
    "\n",
    "$$\\mathbf{B} = - \\nabla V = \\begin{pmatrix} -\\dfrac{1}{r} \\dfrac{\\partial V}{\\partial \\theta} & -\\dfrac{1}{r \\sin \\theta} \\dfrac{\\partial V}{\\partial \\varphi} & -\\dfrac{\\partial V}{\\partial r} \\end{pmatrix}^{\\top}$$\n",
    "\n",
    "Reference frame: SouthEastUp"
   ]
  },
  {
   "cell_type": "code",
   "execution_count": 10,
   "metadata": {},
   "outputs": [],
   "source": [
    "def magn_field(year, r, theta, phi, table=IGRF_COEFS_TABLE):\n",
    "    \n",
    "    a = 6371200 # [m]\n",
    "    \n",
    "    G, H = IGRF_coef(year, table=table)\n",
    "    \n",
    "    B_r = - r_deriv_full(a, G, H, r, theta, phi)\n",
    "    B_theta = - theta_deriv_full(a, G, H, r, theta, phi) / r\n",
    "    B_phi = - phi_deriv_full(a, G, H, r, theta, phi) / (r * np.sin(theta))\n",
    "    \n",
    "    return np.array([B_theta, B_phi, B_r])"
   ]
  },
  {
   "cell_type": "code",
   "execution_count": 11,
   "metadata": {},
   "outputs": [
    {
     "name": "stdout",
     "output_type": "stream",
     "text": [
      "Magnetic fields components in South-East-Up geographical frame: [-33961.96953674     81.30084729 -37372.52645732] nT\n",
      "Intensity of the field: 50498.7892770229 nT\n"
     ]
    }
   ],
   "source": [
    "B = magn_field(2020, 6371200, np.pi/3, np.pi/2)\n",
    "\n",
    "print('Magnetic fields components in South-East-Up geographical frame:', B, 'nT')\n",
    "print('Intensity of the field:', np.linalg.norm(B), 'nT')"
   ]
  },
  {
   "cell_type": "markdown",
   "metadata": {},
   "source": [
    "# Conversion to Earth-Centered Earth-Fixed frame\n",
    "\n",
    "$$\\mathbf{B}_\\text{ECEF} = \\begin{pmatrix} \\cos{\\theta} \\cos{\\varphi} & - \\sin{\\varphi} & \\sin{\\theta} \\cos{\\varphi} \\\\ \\cos{\\theta} \\sin{\\varphi} & \\cos{\\varphi} & \\sin{\\theta} \\sin{\\varphi} \\\\ - \\sin{\\theta} & 0 & \\cos{\\theta} \\end{pmatrix} \\mathbf{B}_\\text{SEU}$$"
   ]
  },
  {
   "cell_type": "code",
   "execution_count": 12,
   "metadata": {},
   "outputs": [],
   "source": [
    "def DCM_SEU_to_ECEF(theta, phi):\n",
    "    \n",
    "    return np.array([[np.cos(theta) * np.cos(phi), -np.sin(phi), np.sin(theta) * np.cos(phi)],\n",
    "                     [np.cos(theta) * np.sin(phi), np.cos(phi), np.sin(theta) * np.sin(phi)],\n",
    "                     [-np.sin(theta), 0, np.cos(theta)]])\n",
    "\n",
    "def magn_field_ECEF(year, r, theta, phi, table=IGRF_COEFS_TABLE):\n",
    "    \n",
    "    B = magn_field(year, r, theta, phi, table=table)\n",
    "    \n",
    "    A = DCM_SEU_to_ECEF(theta, phi)\n",
    "    \n",
    "    return A @ B"
   ]
  },
  {
   "cell_type": "code",
   "execution_count": 13,
   "metadata": {},
   "outputs": [
    {
     "name": "stdout",
     "output_type": "stream",
     "text": [
      "Magnetic fields components in ECEF: [   -81.30084729 -49346.54208401  10725.66515271] nT\n"
     ]
    }
   ],
   "source": [
    "B_ECEF = magn_field_ECEF(2020, 6371200, np.pi/3, np.pi/2)\n",
    "\n",
    "print('Magnetic fields components in ECEF:', B_ECEF, 'nT')"
   ]
  },
  {
   "cell_type": "markdown",
   "metadata": {},
   "source": [
    "# Conversion to Earth-Centered Inertial frame"
   ]
  },
  {
   "cell_type": "markdown",
   "metadata": {},
   "source": [
    "## Motion of the celestial pole in celestial reference frame"
   ]
  },
  {
   "cell_type": "markdown",
   "metadata": {},
   "source": [
    "### Fundamental arguments of the nutation theory\n",
    "\n",
    "pp 67-68 of the IERS Conventions\n",
    "\n",
    "* Mean Anomaly of the Moon $l$\n",
    "\n",
    "$$F_1 = 134.96340251^{\\circ} + 1717915923.2178'' \\cdot T + 31.8792'' \\cdot T^2 + 0.051635'' \\cdot T^3 - 0.00024470'' \\cdot T^4$$\n",
    "\n",
    "\n",
    "* Mean Anomaly of the Sun $l'$\n",
    "\n",
    "$$F_2 = 357.52910918^{\\circ} + 129596581.0481'' \\cdot T - 0.5532'' \\cdot T^2 + 0.000136'' \\cdot T^3 - 0.00001149'' \\cdot T^4$$\n",
    "\n",
    "\n",
    "* Mean Longitude of the Moon $-$ Mean Longitude of the Ascending Node of the Moon $F = L - \\Omega$\n",
    "\n",
    "$$F_3 = 93.27209062^{\\circ} + 1739527262.8478'' \\cdot T - 12.7512'' \\cdot T^2 - 0.001037'' \\cdot T^3 + 0.00000417'' \\cdot T^4$$\n",
    "\n",
    "\n",
    "* Mean Elongation of the Moon from the Sun $D$\n",
    "\n",
    "$$F_4 = 297.85019547^{\\circ} + 1602961601.2090'' \\cdot T - 6.3706'' \\cdot T^2 + 0.006593'' \\cdot T^3 - 0.00003169'' \\cdot T^4$$\n",
    "\n",
    "\n",
    "* Mean Longitude of the Ascending Node of the Moon $\\Omega$\n",
    "\n",
    "$$F_5 = 125.04455501^{\\circ} - 6962890.5431'' \\cdot T + 7.4722'' \\cdot T^2 + 0.007702'' \\cdot T^3 - 0.00005939'' \\cdot T^4$$\n",
    "\n",
    "\n",
    "* Mean Longitude of the Mercury $L_\\text{Me}$\n",
    "\n",
    "$$F_6 = 4.402608842 + 2608.7903141574 \\cdot T$$\n",
    "\n",
    "\n",
    "* Mean Longitude of the Venus $L_\\text{Ve}$\n",
    "\n",
    "$$F_7 = 3.176146697 + 1021.3285546211 \\cdot T$$\n",
    "\n",
    "\n",
    "* Mean Longitude of the Earth $L_\\text{E}$\n",
    "\n",
    "$$F_8 = 1.753470314 + 628.3075849991 \\cdot T$$\n",
    "\n",
    "\n",
    "* Mean Longitude of the Mars $L_\\text{Ma}$\n",
    "\n",
    "$$F_9 = 6.203480913 + 334.0612426700 \\cdot T$$\n",
    "\n",
    "\n",
    "* Mean Longitude of the Jupiter $L_\\text{Ju}$\n",
    "\n",
    "$$F_{10} = 0.599546497 + 52.9690962641 \\cdot T$$\n",
    "\n",
    "\n",
    "* Mean Longitude of the Saturn $L_\\text{Sa}$\n",
    "\n",
    "$$F_{11} = 0.874016757 + 21.3299104960 \\cdot T$$\n",
    "\n",
    "\n",
    "* Mean Longitude of the Uranus $L_\\text{Ur}$\n",
    "\n",
    "$$F_{12} = 5.481293872 + 7.4781598567 \\cdot T$$\n",
    "\n",
    "\n",
    "* Mean Longitude of the Neptune $L_\\text{Ne}$\n",
    "\n",
    "$$F_{13} = 5.311886287 + 3.8133035638 \\cdot T$$\n",
    "\n",
    "\n",
    "* General precession $p_A$\n",
    "\n",
    "$$F_{14} = 0.02438175 \\cdot T + 0.00000538691 \\cdot T^2$$\n",
    "\n",
    "where $T$ is the Julian Century"
   ]
  },
  {
   "cell_type": "code",
   "execution_count": 55,
   "metadata": {},
   "outputs": [],
   "source": [
    "def F1(JC):\n",
    "    \n",
    "    \"\"\"\n",
    "    l (Mean Anomaly of the Moon) in [rad]\n",
    "    \"\"\"\n",
    "    \n",
    "    DEG2RAD = np.pi / 180\n",
    "    ARCSEC2RAD = DEG2RAD / 3600\n",
    "    \n",
    "    return 134.96340251 * DEG2RAD + \\\n",
    "           (1717915923.2178 * JC + 31.8792 * JC**2 + 0.051635 * JC**3 - 0.00024470 * JC**4) * ARCSEC2RAD\n",
    "\n",
    "def F2(JC):\n",
    "    \n",
    "    \"\"\"\n",
    "    l' (Mean Anomaly of the Sun) in [rad]\n",
    "    \"\"\"\n",
    "    \n",
    "    DEG2RAD = np.pi / 180\n",
    "    ARCSEC2RAD = DEG2RAD / 3600\n",
    "    \n",
    "    return 357.52910918 * DEG2RAD + \\\n",
    "           (129596581.0481 * JC - 0.5532 * JC**2 + 0.000136 * JC**3 - 0.00001149 * JC**4) * ARCSEC2RAD\n",
    "\n",
    "def F3(JC):\n",
    "    \n",
    "    \"\"\"\n",
    "    F = L - Omega (Mean Longitude of the Moon - Mean Longitude of the Ascending Node of the Moon) in [rad]\n",
    "    \"\"\"\n",
    "    \n",
    "    DEG2RAD = np.pi / 180\n",
    "    ARCSEC2RAD = DEG2RAD / 3600\n",
    "    \n",
    "    return 93.27209062 * DEG2RAD + \\\n",
    "           (1739527262.8478 * JC - 12.7512 * JC**2 - 0.001037 * JC**3 + 0.00000417 * JC**4) * ARCSEC2RAD\n",
    "\n",
    "def F4(JC):\n",
    "    \n",
    "    \"\"\"\n",
    "    D (Mean Elongation of the Moon from the Sun) in [rad]\n",
    "    \"\"\"\n",
    "    \n",
    "    DEG2RAD = np.pi / 180\n",
    "    ARCSEC2RAD = DEG2RAD / 3600\n",
    "    \n",
    "    return 297.85019547 * DEG2RAD + \\\n",
    "           (1602961601.2090 * JC - 6.3706 * JC**2 + 0.006593 * JC**3 - 0.00003169 * JC**4) * ARCSEC2RAD\n",
    "\n",
    "def F5(JC):\n",
    "    \n",
    "    \"\"\"\n",
    "    Omega (Mean Longitude of the Ascending Node of the Moon) in [rad]\n",
    "    \"\"\"\n",
    "    \n",
    "    DEG2RAD = np.pi / 180\n",
    "    ARCSEC2RAD = DEG2RAD / 3600\n",
    "    \n",
    "    return 125.04455501 * DEG2RAD + \\\n",
    "           (-6962890.5431 * JC + 7.4722 * JC**2 + 0.007702 * JC**3 - 0.00005939 * JC**4) * ARCSEC2RAD\n",
    "\n",
    "def F6(JC):\n",
    "    \n",
    "    \"\"\"\n",
    "    L_me (Mean Longitude of the Mercury) in [rad]\n",
    "    \"\"\"\n",
    "    \n",
    "    return 4.402608842 + 2608.7903141574 * JC\n",
    "\n",
    "def F7(JC):\n",
    "    \n",
    "    \"\"\"\n",
    "    L_ve (Mean Longitude of the Venus) in [rad]\n",
    "    \"\"\"\n",
    "    \n",
    "    return 3.176146697 + 1021.3285546211 * JC\n",
    "\n",
    "def F8(JC):\n",
    "    \n",
    "    \"\"\"\n",
    "    L_e (Mean Longitude of the Earth) in [rad]\n",
    "    \"\"\"\n",
    "    \n",
    "    return 1.753470314 + 628.3075849991 * JC\n",
    "\n",
    "def F9(JC):\n",
    "    \n",
    "    \"\"\"\n",
    "    L_ma (Mean Longitude of the Mars) in [rad]\n",
    "    \"\"\"\n",
    "    \n",
    "    return 6.203480913 + 334.0612426700 * JC\n",
    "\n",
    "def F10(JC):\n",
    "    \n",
    "    \"\"\"\n",
    "    L_ju (Mean Longitude of the Jupiter) in [rad]\n",
    "    \"\"\"\n",
    "    \n",
    "    return 0.599546497 + 52.9690962641 * JC\n",
    "\n",
    "def F11(JC):\n",
    "    \n",
    "    \"\"\"\n",
    "    L_sa (Mean Longitude of the Saturn) in [rad]\n",
    "    \"\"\"\n",
    "    \n",
    "    return 0.874016757 + 21.3299104960 * JC\n",
    "\n",
    "def F12(JC):\n",
    "    \n",
    "    \"\"\"\n",
    "    L_ur (Mean Longitude of the Uranus) in [rad]\n",
    "    \"\"\"\n",
    "    \n",
    "    return 5.481293872 + 7.4781598567 * JC\n",
    "\n",
    "def F13(JC):\n",
    "    \n",
    "    \"\"\"\n",
    "    L_ne (Mean Longitude of the Neptune) in [rad]\n",
    "    \"\"\"\n",
    "    \n",
    "    return 5.311886287 + 3.8133035638 * JC\n",
    "\n",
    "def F14(JC):\n",
    "    \n",
    "    \"\"\"\n",
    "    pA (General precession) in [rad]\n",
    "    \"\"\"\n",
    "    \n",
    "    return 0.02438175 * JC + 0.00000538691 * JC**2"
   ]
  },
  {
   "cell_type": "markdown",
   "metadata": {},
   "source": [
    "### Nutation argument $\\beta$\n",
    "\n",
    "$$\\beta = \\sum\\limits_{i=1}^{14} N_i F_i$$\n",
    "\n",
    "where\n",
    "\n",
    "$$F_i - \\text{fundamental arguments of the nutation theory}$$\n",
    "\n",
    "$$N_i - \\text{Poisson multipliers (tables 5.2a, 5.2b, 5.2c at  ftp://tai.bipm.org/iers/conv2003/chapter5/)}$$"
   ]
  },
  {
   "cell_type": "code",
   "execution_count": 56,
   "metadata": {},
   "outputs": [],
   "source": [
    "def nutation_argument(N, JC):\n",
    "    \n",
    "    F = np.array([F1(JC), F2(JC), F3(JC), F4(JC), F5(JC),\n",
    "                  F6(JC), F7(JC), F8(JC), F9(JC), F10(JC), F11(JC), F12(JC), F13(JC), F14(JC)])\n",
    "    \n",
    "    return N @ F"
   ]
  },
  {
   "cell_type": "markdown",
   "metadata": {},
   "source": [
    "### Celestial Intermediate Point coordinates in the GCRS (X)\n",
    "\n",
    "p. 54 of the IERS Conventions\n",
    "\n",
    "$$X = X_\\text{polynomial} + X_\\text{non-polynomial}$$\n",
    "\n",
    "$$X_\\text{polynomial} [\\mu\\text{as}] = -16616.99 + 2004191742.88 \\cdot T - 427219.05 \\cdot T^2 - 198620.54 \\cdot T^3 - 46.05 \\cdot T^4 + 5.98  \\cdot T^5$$\n",
    "\n",
    "$$X_\\text{non-polynomial} [\\mu\\text{as}] = \\sum\\limits_{j=0}^4 \\sum\\limits_{i} \\left[ \\left( a_{s,j} \\right)_i \\sin{\\beta} + \\left( a_{c,j} \\right)_i \\cos{\\beta} \\right] T^j$$\n",
    "\n",
    "where\n",
    "\n",
    "$$T - \\text{Julian Centuries}$$\n",
    "\n",
    "$$\\beta - \\text{nutation argument (Poisson terms } \\left(N_j\\right)_i \\text{ are taken from table 5.2a)}$$\n",
    "\n",
    "$$\\left( a_{s,j} \\right)_i \\text{ and } \\left( a_{c,j} \\right)_i - \\text{Fourier terms (taken from table 5.2a)}$$"
   ]
  },
  {
   "cell_type": "code",
   "execution_count": 57,
   "metadata": {},
   "outputs": [],
   "source": [
    "def X_polynom(JC):\n",
    "    \n",
    "    \"\"\"\n",
    "    Polynomial part of the X-coordinate of the CIP in [uas]\n",
    "    \"\"\"\n",
    "    \n",
    "    return -16616.99 + 2004191742.88 * JC - 427219.05 * JC**2 - 198620.54 * JC**3 - 46.05 * JC**4 + 5.98 * JC**5\n",
    "\n",
    "def X_non_polynom(JC, tables=X_CIP_COEFS_TABLES):\n",
    "    \n",
    "    \"\"\"\n",
    "    Non-polynomial part of the X-coordinate of the CIP in [uas]\n",
    "    \"\"\"\n",
    "    \n",
    "    coefs_0, coefs_1, coefs_2, coefs_3, coefs_4 = tables\n",
    "\n",
    "    a_s0 = coefs_0[:,1]\n",
    "    a_s1 = coefs_1[:,1]\n",
    "    a_s2 = coefs_2[:,1]\n",
    "    a_s3 = coefs_3[:,1]\n",
    "    a_s4 = coefs_4[1].reshape(1,)\n",
    "    a_sj = [a_s0, a_s1, a_s2, a_s3, a_s4]\n",
    "\n",
    "    a_c0 = coefs_0[:,2]\n",
    "    a_c1 = coefs_1[:,2]\n",
    "    a_c2 = coefs_2[:,2]\n",
    "    a_c3 = coefs_3[:,2]\n",
    "    a_c4 = coefs_4[2].reshape(1,)\n",
    "    a_cj = [a_c0, a_c1, a_c2, a_c3, a_c4]\n",
    "\n",
    "    N0 = coefs_0[:,3:]\n",
    "    N1 = coefs_1[:,3:]\n",
    "    N2 = coefs_2[:,3:]\n",
    "    N3 = coefs_3[:,3:]\n",
    "    N4 = coefs_4[3:].reshape(1,14)\n",
    "    Nj = [N0, N1, N2, N3, N4]\n",
    "    \n",
    "    SUM = 0\n",
    "    \n",
    "    for (j, (a_s, a_c, N)) in enumerate(zip(a_sj, a_cj, Nj)):\n",
    "        \n",
    "        beta = nutation_argument(N, JC)\n",
    "        \n",
    "        for (a_si, a_ci, betai) in zip(a_s, a_c, beta):\n",
    "            \n",
    "            SUM += (a_si * np.sin(betai) + a_ci * np.cos(betai)) * JC**j\n",
    "            \n",
    "    return SUM\n",
    "\n",
    "def X_CIP(JC, tables=X_CIP_COEFS_TABLES):\n",
    "    \n",
    "    \"\"\"\n",
    "    X-coordinate of the CIP in [rad]\n",
    "    \"\"\"\n",
    "    \n",
    "    UARCSEC2RAD = np.pi / 180 / 3600 / 1000000\n",
    "    \n",
    "    return (X_polynom(JC) + X_non_polynom(JC, tables=tables)) * UARCSEC2RAD"
   ]
  },
  {
   "cell_type": "markdown",
   "metadata": {},
   "source": [
    "### Celestial Intermediate Point coordinates in the GCRS (Y)\n",
    "\n",
    "p. 54 of the IERS Conventions\n",
    "\n",
    "$$Y = Y_\\text{polynomial} + Y_\\text{non-polynomial}$$\n",
    "\n",
    "$$Y_\\text{polynomial} [\\mu\\text{as}] = -6950.78 - 25381.99 T - 22407250.99 T^2 + 1842.28 T^3 + 1113.06 T^4 + 0.99 T^5$$\n",
    "\n",
    "$$Y_\\text{non-polynomial} [\\mu\\text{as}] = \\sum\\limits_{j=0}^4 \\sum\\limits_{i} \\left[ \\left( b_{s,j} \\right)_i \\sin{\\beta} + \\left( b_{c,j} \\right)_i \\cos{\\beta} \\right] T^j$$\n",
    "\n",
    "where\n",
    "\n",
    "$$T - \\text{Julian Centuries}$$\n",
    "\n",
    "$$\\beta - \\text{nutation argument (Poisson terms } \\left(N_j\\right)_i \\text{ are taken from table 5.2b)}$$\n",
    "\n",
    "$$\\left( b_{s,j} \\right)_i \\text{ and } \\left( b_{c,j} \\right)_i - \\text{Fourier terms (taken from table 5.2b)}$$"
   ]
  },
  {
   "cell_type": "code",
   "execution_count": 58,
   "metadata": {},
   "outputs": [],
   "source": [
    "def Y_polynom(JC):\n",
    "    \n",
    "    \"\"\"\n",
    "    Polynomial part of the Y-coordinate of the CIP in [uas]\n",
    "    \"\"\"\n",
    "    \n",
    "    return -6950.78 - 25381.99 * JC - 22407250.99 * JC**2 + 1842.28 * JC**3 + 1113.06 * JC**4 + 0.99 * JC**5\n",
    "\n",
    "def Y_non_polynom(JC, tables=Y_CIP_COEFS_TABLES):\n",
    "    \n",
    "    \"\"\"\n",
    "    Non-polynomial part of the Y-coordinate of the CIP in [uas]\n",
    "    \"\"\"\n",
    "    \n",
    "    coefs_0, coefs_1, coefs_2, coefs_3, coefs_4 = tables\n",
    "\n",
    "    b_s0 = coefs_0[:,1]\n",
    "    b_s1 = coefs_1[:,1]\n",
    "    b_s2 = coefs_2[:,1]\n",
    "    b_s3 = coefs_3[:,1]\n",
    "    b_s4 = coefs_4[1].reshape(1,)\n",
    "    b_sj = [b_s0, b_s1, b_s2, b_s3, b_s4]\n",
    "\n",
    "    b_c0 = coefs_0[:,2]\n",
    "    b_c1 = coefs_1[:,2]\n",
    "    b_c2 = coefs_2[:,2]\n",
    "    b_c3 = coefs_3[:,2]\n",
    "    b_c4 = coefs_4[2].reshape(1,)\n",
    "    b_cj = [b_c0, b_c1, b_c2, b_c3, b_c4]\n",
    "\n",
    "    N0 = coefs_0[:,3:]\n",
    "    N1 = coefs_1[:,3:]\n",
    "    N2 = coefs_2[:,3:]\n",
    "    N3 = coefs_3[:,3:]\n",
    "    N4 = coefs_4[3:].reshape(1,14)\n",
    "    Nj = [N0, N1, N2, N3, N4]\n",
    "    \n",
    "    SUM = 0\n",
    "    \n",
    "    for (j, (b_s, b_c, N)) in enumerate(zip(b_sj, b_cj, Nj)):\n",
    "        \n",
    "        beta = nutation_argument(N, JC)\n",
    "        \n",
    "        for (b_si, b_ci, betai) in zip(b_s, b_c, beta):\n",
    "            \n",
    "            SUM += (b_si * np.sin(betai) + b_ci * np.cos(betai)) * JC**j\n",
    "            \n",
    "    return SUM\n",
    "\n",
    "def Y_CIP(JC, tables=Y_CIP_COEFS_TABLES):\n",
    "    \n",
    "    \"\"\"\n",
    "    Y-coordinate of the CIP in [rad]\n",
    "    \"\"\"\n",
    "    \n",
    "    UARCSEC2RAD = np.pi / 180 / 3600 / 1000000\n",
    "    \n",
    "    return (Y_polynom(JC) + Y_non_polynom(JC, tables=tables)) * UARCSEC2RAD"
   ]
  },
  {
   "cell_type": "markdown",
   "metadata": {},
   "source": [
    "### Celestial Intermediate Origin locator $s$\n",
    "\n",
    "p. 59 of the IERS Conventions\n",
    "\n",
    "$$s + \\dfrac{XY}{2} = \\left(s + \\dfrac{XY}{2}\\right)_\\text{polynomial} + \\left(s + \\dfrac{XY}{2}\\right)_\\text{non-polynomial}$$\n",
    "\n",
    "$$\\left(s + \\dfrac{XY}{2}\\right)_\\text{polynomial} [\\mu\\text{as}] = 94.0 + 3808.35 T - 119.94 T^2 - 72574.09 T^3 + 27.70 T^4 + 15.61 T^5$$\n",
    "\n",
    "$$\\left(s + \\dfrac{XY}{2}\\right)_\\text{non-polynomial} [\\mu\\text{as}] = \\sum\\limits_{j=0}^4 \\sum\\limits_{i} \\left[ \\left( c_{s,j} \\right)_i \\sin{\\beta} + \\left( c_{c,j} \\right)_i \\cos{\\beta} \\right] T^j$$\n",
    "\n",
    "where\n",
    "\n",
    "$$T - \\text{Julian Centuries}$$\n",
    "\n",
    "$$X \\text{ and } Y - \\text{CIP coordinates}$$\n",
    "\n",
    "$$\\beta - \\text{nutation argument (Poisson terms } \\left(N_j\\right)_i \\text{ are taken from table 5.2c)}$$\n",
    "\n",
    "$$\\left( c_{s,j} \\right)_i \\text{ and } \\left( c_{c,j} \\right)_i - \\text{Fourier terms (taken from table 5.2c)}$$"
   ]
  },
  {
   "cell_type": "code",
   "execution_count": 59,
   "metadata": {},
   "outputs": [],
   "source": [
    "def sXY_polynom(JC):\n",
    "    \n",
    "    \"\"\"\n",
    "    Polynomial part of the s + XY/2 quantity in [uas]\n",
    "    \"\"\"\n",
    "    \n",
    "    return -6950.78 - 25381.99 * JC - 22407250.99 * JC**2 + 1842.28 * JC**3 + 1113.06 * JC**4 + 0.99 * JC**5\n",
    "\n",
    "def sXY_non_polynom(JC, tables=sXY_CIO_COEFS_TABLES):\n",
    "    \n",
    "    \"\"\"\n",
    "    Non-polynomial part of the s + XY/2 quantity in [uas]\n",
    "    \"\"\"\n",
    "    \n",
    "    coefs_0, coefs_1, coefs_2, coefs_3, coefs_4 = tables\n",
    "\n",
    "    c_s0 = coefs_0[:,1]\n",
    "    c_s1 = coefs_1[:,1]\n",
    "    c_s2 = coefs_2[:,1]\n",
    "    c_s3 = coefs_3[:,1]\n",
    "    c_s4 = coefs_4[1].reshape(1,)\n",
    "    c_sj = [c_s0, c_s1, c_s2, c_s3, c_s4]\n",
    "\n",
    "    c_c0 = coefs_0[:,2]\n",
    "    c_c1 = coefs_1[:,2]\n",
    "    c_c2 = coefs_2[:,2]\n",
    "    c_c3 = coefs_3[:,2]\n",
    "    c_c4 = coefs_4[2].reshape(1,)\n",
    "    c_cj = [c_c0, c_c1, c_c2, c_c3, c_c4]\n",
    "\n",
    "    N0 = coefs_0[:,3:]\n",
    "    N1 = coefs_1[:,3:]\n",
    "    N2 = coefs_2[:,3:]\n",
    "    N3 = coefs_3[:,3:]\n",
    "    N4 = coefs_4[3:].reshape(1,14)\n",
    "    Nj = [N0, N1, N2, N3, N4]\n",
    "    \n",
    "    SUM = 0\n",
    "    \n",
    "    for (j, (c_s, c_c, N)) in enumerate(zip(c_sj, c_cj, Nj)):\n",
    "        \n",
    "        beta = nutation_argument(N, JC)\n",
    "        \n",
    "        for (c_si, c_ci, betai) in zip(c_s, c_c, beta):\n",
    "            \n",
    "            SUM += (c_si * np.sin(betai) + c_ci * np.cos(betai)) * JC**j\n",
    "            \n",
    "    return SUM\n",
    "\n",
    "def sXY(JC, tables=sXY_CIO_COEFS_TABLES):\n",
    "    \n",
    "    \"\"\"\n",
    "    s + XY/2 quantity in [rad]\n",
    "    \"\"\"\n",
    "    \n",
    "    UARCSEC2RAD = np.pi / 180 / 3600 / 1000000\n",
    "    \n",
    "    return (sXY_polynom(JC) + sXY_non_polynom(JC, tables=tables)) * UARCSEC2RAD"
   ]
  },
  {
   "cell_type": "markdown",
   "metadata": {},
   "source": [
    "## Nutation-Precession matrix $\\mathbf{Q}$\n",
    "\n",
    "p. 49 of the IERS Conventions\n",
    "\n",
    "$$\\mathbf{Q} = \\begin{pmatrix} 1 - a X^2 & -a XY & X \\\\ -a XY & 1 - a Y^2 & Y \\\\ -X & -Y & 1 - a \\left( X^2 + Y^2 \\right) \\end{pmatrix} R_3 (s)$$\n",
    "\n",
    "where\n",
    "\n",
    "$$X \\text{ and } Y - \\text{CIP coordinates}$$\n",
    "\n",
    "$$s - \\text{CIO locator}$$\n",
    "\n",
    "$$a = \\dfrac{1}{2} + \\dfrac{1}{8} \\left( X^2 + Y^2 \\right) \\text{ with accuracy of 1} \\mu \\text{as}$$\n",
    "\n",
    "$$R_3 (s) = \\begin{pmatrix} \\cos{s} & \\sin{s} & 0 \\\\ -\\sin{s} & \\cos{s} & 0 \\\\ 0 & 0 & 1 \\end{pmatrix}$$"
   ]
  },
  {
   "cell_type": "code",
   "execution_count": 60,
   "metadata": {},
   "outputs": [],
   "source": [
    "def nut_prec(JC, tables_X=X_CIP_COEFS_TABLES, tables_Y=Y_CIP_COEFS_TABLES, tables_sXY=sXY_CIO_COEFS_TABLES):\n",
    "    \n",
    "    X = X_CIP(JC, tables=tables_X)\n",
    "    Y = Y_CIP(JC, tables=tables_Y)\n",
    "    s = sXY(JC, tables=tables_sXY) - X*Y/2\n",
    "    \n",
    "    X2Y2 = X**2 + Y**2\n",
    "    XY = X*Y\n",
    "    \n",
    "    a = 0.5 + X2Y2 / 8\n",
    "    \n",
    "    A = np.array([[1 - a*X**2, -a*XY, X],\n",
    "                  [-a*XY, 1 - a*Y**2, Y],\n",
    "                  [-X, -Y, 1 - a*X2Y2]])\n",
    "    \n",
    "    R = np.array([[np.cos(s), np.sin(s), 0],\n",
    "                  [-np.sin(s), np.cos(s), 0],\n",
    "                  [0, 0, 1]])\n",
    "    \n",
    "    return A @ R"
   ]
  },
  {
   "cell_type": "markdown",
   "metadata": {},
   "source": [
    "## Time Conversions"
   ]
  },
  {
   "cell_type": "markdown",
   "metadata": {},
   "source": [
    "### Gregorian date to Julian date\n",
    "\n",
    "$$\\text{JD} = 1720981.5 + \\left[ 365.25 Y \\right] + \\left[ 30.6001 \\left( M + 1 \\right) \\right] + \\text{Day} + \\dfrac{\\text{Hour}}{24} + \\dfrac{\\text{Min}}{24 \\cdot 60} + \\dfrac{\\text{Sec}}{24 \\cdot 3600}$$\n",
    "\n",
    "where\n",
    "\n",
    "$$\\left\\{\n",
    "\\begin{aligned}\n",
    "&\\left[ \\begin{aligned}\n",
    "Y &= \\text{Year} - 1,\\\\\n",
    "M &= \\text{Month} + 12,\n",
    "\\end{aligned} \\right. \\qquad \\text{if Month} \\leqslant 2,\n",
    "\\\\\n",
    "&\\left[ \\begin{aligned}\n",
    "Y &= \\text{Year},\\\\\n",
    "M &= \\text{Month}.\n",
    "\\end{aligned} \\right. \\qquad \\qquad \\text{if Month} > 2.\n",
    "\\end{aligned}\\right.\n",
    "$$"
   ]
  },
  {
   "cell_type": "code",
   "execution_count": 61,
   "metadata": {},
   "outputs": [
    {
     "name": "stdout",
     "output_type": "stream",
     "text": [
      "2458940.1933954097\n"
     ]
    }
   ],
   "source": [
    "def greg_to_julian(GD):\n",
    "    \n",
    "    year, month, day, hour, min, sec = GD\n",
    "    \n",
    "    if month <= 2:\n",
    "        \n",
    "        year -= 1\n",
    "        month += 12\n",
    "        \n",
    "    return int(365.25 * year) + int(30.6001 * (month + 1)) + day + 1720981.5 + hour / 24 + min / 24 / 60 + sec / 24 / 3600\n",
    "    \n",
    "print(greg_to_julian((2020, 3, 31, 16, 38, 29.36342400000285)))"
   ]
  },
  {
   "cell_type": "markdown",
   "metadata": {},
   "source": [
    "### Julian date to Gregorian date\n",
    "\n",
    "$$b = \\left[ \\text{JD} + 0.5 \\right] + 1537$$\n",
    "\n",
    "$$c = \\left[ \\dfrac{b - 122.1}{365.25} \\right]$$\n",
    "\n",
    "$$d = \\left[ 365.25 c \\right]$$\n",
    "\n",
    "$$e = \\left[ \\dfrac{b - d}{30.6001} \\right]$$\n",
    "\n",
    "$$f = \\left( \\text{JD} + 0.5 - \\left[ \\text{JD} + 0.5 \\right] \\right)$$\n",
    "\n",
    "$$\\text{Hour} = \\left[ 24 f \\right]$$\n",
    "\n",
    "$$\\text{Min} = \\left[ 60 \\cdot \\left( 24 f - \\text{Hour} \\right) \\right]$$\n",
    "\n",
    "$$\\text{Sec} = \\left[ 60 \\cdot \\left( 60 \\cdot \\left( 24 f - \\text{Hour} \\right) - \\text{Min} \\right) \\right]$$\n",
    "\n",
    "$$\\text{Day} = b - d - \\left[ 30.6001 e \\right]$$\n",
    "\n",
    "$$\\text{Month} = e - 1 - 12 \\cdot \\left[ \\dfrac{e}{14} \\right]$$\n",
    "\n",
    "$$\\text{Year} = c - 4715 - \\left[ \\dfrac{7 + \\text{Month}}{10} \\right]$$"
   ]
  },
  {
   "cell_type": "code",
   "execution_count": 62,
   "metadata": {},
   "outputs": [
    {
     "name": "stdout",
     "output_type": "stream",
     "text": [
      "(2020, 3, 20, 3, 49, 59.99998211860657)\n"
     ]
    }
   ],
   "source": [
    "def julian_to_greg(JD):\n",
    "    \n",
    "    b = int(JD + 0.5) + 1537\n",
    "    c = int((b - 122.1) / 365.25)\n",
    "    d = int(365.25 * c)\n",
    "    e = int((b - d) / 30.6001)\n",
    "    \n",
    "    hour = (JD + 0.5 - int(JD + 0.5)) * 24\n",
    "    min = (hour - int(hour)) * 60\n",
    "    hour = int(hour)\n",
    "    sec = (min - int(min)) * 60\n",
    "    min = int(min)\n",
    "    day = b - d - int(30.6001 * e)\n",
    "    month = e - 1 - 12 * int(e / 14)\n",
    "    year = c - 4715 - int((month + 7) / 10)\n",
    "    \n",
    "    return (year, month, day, hour, min, sec)\n",
    "\n",
    "print(julian_to_greg(2.458928659722222e+06))"
   ]
  },
  {
   "cell_type": "markdown",
   "metadata": {},
   "source": [
    "### Julian date to fraction of the Gregorian year"
   ]
  },
  {
   "cell_type": "code",
   "execution_count": 63,
   "metadata": {},
   "outputs": [],
   "source": [
    "def julian_to_year_frac(JD):\n",
    "    \n",
    "    year, month, day, hour, min, sec = julian_to_greg(JD)\n",
    "    \n",
    "    if year % 4 == 0:\n",
    "        DAYS = {0:0, 1:31, 2:60, 3:91, 4:121, 5:152, 6:182, 7:213, 8:244, 9:274, 10:305, 11:335, 12:366}\n",
    "    else:\n",
    "        DAYS = {0:0, 1:31, 2:59, 3:90, 4:120, 5:151, 6:181, 7:212, 8:243, 9:273, 10:304, 11:334, 12:365}\n",
    "        \n",
    "    return year + (DAYS[month-1] + day) / DAYS[12] + (hour + min / 60 + sec / 3600 ) / DAYS[12] / 24"
   ]
  },
  {
   "cell_type": "markdown",
   "metadata": {},
   "source": [
    "### Modified Julian date"
   ]
  },
  {
   "cell_type": "code",
   "execution_count": 64,
   "metadata": {},
   "outputs": [],
   "source": [
    "def mjd(JD):\n",
    "    \n",
    "    return JD - 2400000.5"
   ]
  },
  {
   "cell_type": "markdown",
   "metadata": {},
   "source": [
    "### Julian centuries, starting from 2000 Jan 1d 12h, UTC\n",
    "\n",
    "$$T = \\dfrac{\\text{JD} - 2451545}{36525}$$"
   ]
  },
  {
   "cell_type": "code",
   "execution_count": 65,
   "metadata": {},
   "outputs": [],
   "source": [
    "def jul_cent(JD):\n",
    "    \n",
    "    \"\"\"\n",
    "    Julian Centuries, starting from 2000 Jan 1d 12h, in UTC\n",
    "    \"\"\"\n",
    "    \n",
    "    return (JD - 2451545) / 36525"
   ]
  },
  {
   "cell_type": "code",
   "execution_count": 66,
   "metadata": {},
   "outputs": [],
   "source": [
    "def JD_add_seconds(seconds):\n",
    "    \n",
    "    return seconds / 24 / 3600"
   ]
  },
  {
   "cell_type": "markdown",
   "metadata": {},
   "source": [
    "### Julian dates, starting from 2000 Jan 1d 12h, UT1\n",
    "\n",
    "Relation between $\\text{UT1}$ and $\\text{UTC}$:\n",
    "\n",
    "$$\\text{UT1} = \\text{UTC} + \\text{dUT1}$$\n",
    "\n",
    "where $\\text{dUT1}$ is taken from IERS Bulletin A. Since $\\text{dUT1}$ is usually in seconds:\n",
    "\n",
    "$$\\text{JD}_{\\text{UT1}} = \\text{JD}_{\\text{UTC}} + \\dfrac{\\text{dUT1}}{24 \\cdot 3600}$$\n",
    "\n",
    "Julian dates in $\\text{UT1}$ (minus 2000 Jan 1d 12h):\n",
    "\n",
    "$$T_u = \\text{JD}_{\\text{UT1}} - 2451545$$\n",
    "\n",
    "$$T_u = 36525 T + \\dfrac{\\text{dUT1}}{24 \\cdot 3600}$$\n",
    "\n",
    "where\n",
    "\n",
    "$$T - \\text{Julian centuries in UTC, starting from 2000 Jan 1d 12h}$$"
   ]
  },
  {
   "cell_type": "code",
   "execution_count": 67,
   "metadata": {},
   "outputs": [],
   "source": [
    "def jul_date_ut1(JC, DUT1):\n",
    "    \n",
    "    \"\"\"\n",
    "    Julian date, starting from 2000 Jan 1d 12h, in UT1\n",
    "    based on Julian Centuries in UTC\n",
    "    \"\"\"\n",
    "    \n",
    "    return 36525 * JC + DUT1 / 24 / 3600"
   ]
  },
  {
   "cell_type": "markdown",
   "metadata": {},
   "source": [
    "### Earth-Rotation Angle $\\vartheta$\n",
    "\n",
    "$$\\vartheta = 2 \\pi \\left( 0.7790572732640 + 1.00273781191135448 T_u \\right)$$\n",
    "\n",
    "where\n",
    "\n",
    "$$T_u - \\text{Julian date in UT1, starting from 2000 Jan 1d 12h}$$"
   ]
  },
  {
   "cell_type": "code",
   "execution_count": 68,
   "metadata": {},
   "outputs": [],
   "source": [
    "def ERA(JC, DUT1):\n",
    "    \n",
    "    \"\"\"\n",
    "    Earth-Roation Angle in [rad]\n",
    "    \"\"\"\n",
    "    \n",
    "    return 2 * np.pi * (0.7790572732640 + 1.00273781191135448 * jul_date_ut1(JC, DUT1))"
   ]
  },
  {
   "cell_type": "markdown",
   "metadata": {},
   "source": [
    "## Earth-Rotation matrix $\\mathbf{R}$\n",
    "\n",
    "p. 48 of the IERS Conventions\n",
    "\n",
    "$$\\mathbf{R} = \\begin{pmatrix} \\cos{\\vartheta} & -\\sin{\\vartheta} & 0 \\\\ \\sin{\\vartheta} & \\cos{\\vartheta} & 0 \\\\ 0 & 0 & 1 \\end{pmatrix}$$"
   ]
  },
  {
   "cell_type": "code",
   "execution_count": 69,
   "metadata": {},
   "outputs": [],
   "source": [
    "def earth_rot(JC, DUT1):\n",
    "    \n",
    "    vartheta = ERA(JC, DUT1)\n",
    "    \n",
    "    return np.array([[np.cos(vartheta), -np.sin(vartheta), 0],\n",
    "                     [np.sin(vartheta), np.cos(vartheta), 0],\n",
    "                     [0, 0, 1]])"
   ]
  },
  {
   "cell_type": "markdown",
   "metadata": {},
   "source": [
    "## Polar motion"
   ]
  },
  {
   "cell_type": "markdown",
   "metadata": {},
   "source": [
    "### Terrestrial Intermediate Origin locator $s'$\n",
    "\n",
    "p. 52 of the IERS Conventions\n",
    "\n",
    "$$s' = -47 \\mu \\text{as} T$$\n",
    "\n",
    "where\n",
    "\n",
    "$$T - \\text{Julian Centuries}$$"
   ]
  },
  {
   "cell_type": "code",
   "execution_count": 70,
   "metadata": {},
   "outputs": [],
   "source": [
    "def tio_loc(JC):\n",
    "    \n",
    "    \"\"\"\n",
    "    TIO locator s' in [rad]\n",
    "    \"\"\"\n",
    "    \n",
    "    UARCSEC2RAD = np.pi / 180 / 3600 / 1000000\n",
    "    \n",
    "    return -47 * UARCSEC2RAD * JC"
   ]
  },
  {
   "cell_type": "markdown",
   "metadata": {},
   "source": [
    "### Terrestrial Intermediate Point coordinates in the ITRS $\\left(x_p, y_p \\right)$\n",
    "\n",
    "IERS Bulletin A\n",
    "\n",
    "Currently, the file is suitable for dates 27.03.2020 - 26.03.2021\n",
    "\n",
    "Coordinates are updated only for days"
   ]
  },
  {
   "cell_type": "code",
   "execution_count": 71,
   "metadata": {},
   "outputs": [],
   "source": [
    "def TIP_coords(JD, table=TIP_AND_DUT1_TABLE):\n",
    "    \n",
    "    \"\"\"\n",
    "    returns:\n",
    "            x_p in [rad]\n",
    "            y_p in [rad]\n",
    "            dUT1 in [sec]\n",
    "    \"\"\"\n",
    "    \n",
    "    ARCSEC2RAD = np.pi / 180 / 3600\n",
    "    \n",
    "    MJD = int(mjd(JD))\n",
    "    \n",
    "    if MJD > 59299 or MJD < 58935:\n",
    "        \n",
    "        raise Exception('Non-sustainable date, import another file')\n",
    "    \n",
    "    num = np.argwhere(table[:,0] == MJD)[0,0]\n",
    "    \n",
    "    x_p, y_p, DUT1 = table[num, 1:]\n",
    "    \n",
    "    return np.array([x_p * ARCSEC2RAD, y_p * ARCSEC2RAD, DUT1])"
   ]
  },
  {
   "cell_type": "markdown",
   "metadata": {},
   "source": [
    "## Polar motion matrix $\\mathbf{W}$\n",
    "\n",
    "$$\\mathbf{W} = R_3 \\left( -s' \\right) R_2 \\left( x_p \\right) R_1 \\left( y_p \\right)$$\n",
    "\n",
    "where\n",
    "\n",
    "$$x_p \\text{ and } y_p - \\text{TIP coordinates}$$\n",
    "\n",
    "$$s' - \\text{TIO locator}$$\n",
    "\n",
    "$$R_3 \\left( -s' \\right) = \\begin{pmatrix} \\cos{s'} & -\\sin{s'} & 0 \\\\ \\sin{s'} & \\cos{s'} & 0 \\\\ 0 & 0 & 1 \\end{pmatrix}$$\n",
    "\n",
    "$$R_2 \\left( x_p \\right) = \\begin{pmatrix} \\cos{x_p} & 0 & -\\sin{x_p} \\\\ 0 & 1 & 0 \\\\ \\sin{x_p} & 0 & \\cos{x_p} \\end{pmatrix}$$\n",
    "\n",
    "$$R_1 \\left( y_p \\right) = \\begin{pmatrix} 1 & 0 & 0 \\\\ 0 & \\cos{y_p} & \\sin{y_p} \\\\ 0 & -\\sin{y_p} & \\cos{y_p} \\end{pmatrix}$$"
   ]
  },
  {
   "cell_type": "code",
   "execution_count": 72,
   "metadata": {},
   "outputs": [],
   "source": [
    "def polar_mot(x_p, y_p, JC):\n",
    "    \n",
    "    s = tio_loc(JC)\n",
    "    \n",
    "    R3 = np.array([[np.cos(s), -np.sin(s), 0],\n",
    "                   [np.sin(s), np.cos(s), 0],\n",
    "                   [0, 0, 1]])\n",
    "    \n",
    "    R2 = np.array([[np.cos(x_p), 0, -np.sin(x_p)],\n",
    "                   [0, 1, 0],\n",
    "                   [np.sin(x_p), 0, np.cos(x_p)]])\n",
    "    \n",
    "    R1 = np.array([[1, 0, 0],\n",
    "                   [0, np.cos(y_p), np.sin(y_p)],\n",
    "                   [0, -np.sin(y_p), np.cos(y_p)]])\n",
    "    \n",
    "    return R3 @ R2 @ R1"
   ]
  },
  {
   "cell_type": "markdown",
   "metadata": {},
   "source": [
    "## ECEF to ECI rotation matrix\n",
    "\n",
    "$$\\mathbf{B}_\\text{ECI} = \\mathbf{Q} \\mathbf{R} \\mathbf{W} \\mathbf{B}_\\text{ECEF}$$"
   ]
  },
  {
   "cell_type": "code",
   "execution_count": 73,
   "metadata": {},
   "outputs": [],
   "source": [
    "def DCM_ECEF_to_ECI(JD_UTC, tables_X=X_CIP_COEFS_TABLES, tables_Y=Y_CIP_COEFS_TABLES, tables_sXY=sXY_CIO_COEFS_TABLES,\n",
    "                    table_TIP_and_DUT1=TIP_AND_DUT1_TABLE):\n",
    "    \n",
    "    JD_TT = JD_UTC + JD_add_seconds(37 + 32.184)\n",
    "    JC_UTC = jul_cent(JD_UTC)\n",
    "    JC_TT = jul_cent(JD_TT)\n",
    "    x_p, y_p, DUT1 = TIP_coords(JD_UTC, table=table_TIP_and_DUT1)\n",
    "    \n",
    "    Q = nut_prec(JC_TT, tables_X=tables_X, tables_Y=tables_Y, tables_sXY=tables_sXY)\n",
    "    R = earth_rot(JC_UTC, DUT1)\n",
    "    W = polar_mot(x_p, y_p, JC_TT)\n",
    "    \n",
    "    return Q @ R @ W\n",
    "\n",
    "def magn_field_ECI(JD_UTC, r, theta, phi, table_IGRF=IGRF_COEFS_TABLE, tables_X=X_CIP_COEFS_TABLES,\n",
    "                   tables_Y=Y_CIP_COEFS_TABLES, tables_sXY=sXY_CIO_COEFS_TABLES, table_TIP_and_DUT1=TIP_AND_DUT1_TABLE):\n",
    "    \n",
    "    year = julian_to_year_frac(JD_UTC)\n",
    "    B = magn_field_ECEF(year, r, theta, phi, table=table_IGRF)\n",
    "    \n",
    "    A = DCM_ECEF_to_ECI(JD_UTC, tables_X=tables_X, tables_Y=tables_Y, tables_sXY=tables_sXY,\n",
    "                        table_TIP_and_DUT1=table_TIP_and_DUT1)\n",
    "    \n",
    "    return A @ B"
   ]
  },
  {
   "cell_type": "code",
   "execution_count": 33,
   "metadata": {},
   "outputs": [
    {
     "name": "stdout",
     "output_type": "stream",
     "text": [
      "Magnetic fields components in ECI: [48451.61671127 -9601.25289663 10613.82402944] nT\n"
     ]
    }
   ],
   "source": [
    "B_ECI = magn_field_ECI(2458940.1933954097, 6371200, np.pi/3, np.pi/2)\n",
    "\n",
    "print('Magnetic fields components in ECI:', B_ECI, 'nT')"
   ]
  },
  {
   "cell_type": "code",
   "execution_count": null,
   "metadata": {},
   "outputs": [],
   "source": []
  }
 ],
 "metadata": {
  "kernelspec": {
   "display_name": "Python 3",
   "language": "python",
   "name": "python3"
  },
  "language_info": {
   "codemirror_mode": {
    "name": "ipython",
    "version": 3
   },
   "file_extension": ".py",
   "mimetype": "text/x-python",
   "name": "python",
   "nbconvert_exporter": "python",
   "pygments_lexer": "ipython3",
   "version": "3.8.8"
  }
 },
 "nbformat": 4,
 "nbformat_minor": 2
}
